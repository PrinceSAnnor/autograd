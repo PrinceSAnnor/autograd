{
 "cells": [
  {
   "cell_type": "code",
   "execution_count": 2,
   "metadata": {},
   "outputs": [],
   "source": [
    "import os"
   ]
  },
  {
   "cell_type": "code",
   "execution_count": 8,
   "metadata": {},
   "outputs": [
    {
     "name": "stdout",
     "output_type": "stream",
     "text": [
      "Downloading files...\n",
      "python \"C:\\Users\\Raymond Tetteh\\Desktop\\autograd/drive/drive.py\"\n",
      "Done Downloading\n"
     ]
    }
   ],
   "source": [
    "#for now well just call the scripts\n",
    "\n",
    "\n",
    "# download files\n",
    "#print(\"Downloading files...\")\n",
    "\n",
    "#drive_cmd = 'python ' + '\"' + os.getcwd() + '/drive/drive.py\"'\n",
    "\n",
    "#os.system(drive_cmd)\n",
    "\n",
    "#print(\"Done Downloading\")"
   ]
  },
  {
   "cell_type": "code",
   "execution_count": 13,
   "metadata": {},
   "outputs": [
    {
     "data": {
      "text/plain": [
       "0"
      ]
     },
     "execution_count": 13,
     "metadata": {},
     "output_type": "execute_result"
    }
   ],
   "source": [
    "#Grade files\n",
    "print(\"Grading files...\")\n",
    "\n",
    "prosessing_cmd = 'processing-java --sketch=\"' + os.getcwd() + '/pong_1\" --output=\"' + os.getcwd() + '/pong_1/build\"' + ' --force --run'\n",
    "\n",
    "os.system(prosessing_cmd)\n",
    "\n",
    "print(\"Done grading\")"
   ]
  },
  {
   "cell_type": "code",
   "execution_count": null,
   "metadata": {},
   "outputs": [],
   "source": []
  }
 ],
 "metadata": {
  "kernelspec": {
   "display_name": "Python 3",
   "language": "python",
   "name": "python3"
  },
  "language_info": {
   "codemirror_mode": {
    "name": "ipython",
    "version": 3
   },
   "file_extension": ".py",
   "mimetype": "text/x-python",
   "name": "python",
   "nbconvert_exporter": "python",
   "pygments_lexer": "ipython3",
   "version": "3.7.3"
  }
 },
 "nbformat": 4,
 "nbformat_minor": 2
}
