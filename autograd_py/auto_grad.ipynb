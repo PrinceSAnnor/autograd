{
 "cells": [
  {
   "cell_type": "code",
   "execution_count": 1,
   "metadata": {},
   "outputs": [],
   "source": [
    "import glob\n",
    "import os\n",
    "import shutil"
   ]
  },
  {
   "cell_type": "code",
   "execution_count": 2,
   "metadata": {},
   "outputs": [],
   "source": [
    "from pydrive.auth import GoogleAuth\n",
    "from pydrive.drive import GoogleDrive"
   ]
  },
  {
   "cell_type": "code",
   "execution_count": 3,
   "metadata": {},
   "outputs": [
    {
     "name": "stderr",
     "output_type": "stream",
     "text": [
      "c:\\program files\\python37\\lib\\site-packages\\oauth2client\\_helpers.py:255: UserWarning: Cannot access mycreds.txt: No such file or directory\n",
      "  warnings.warn(_MISSING_FILE_MESSAGE.format(filename))\n"
     ]
    },
    {
     "name": "stdout",
     "output_type": "stream",
     "text": [
      "Your browser has been opened to visit:\n",
      "\n",
      "    https://accounts.google.com/o/oauth2/auth?client_id=113020658092-uuodpnoaks325pedjv1351h1k8sde8nb.apps.googleusercontent.com&redirect_uri=http%3A%2F%2Flocalhost%3A8080%2F&scope=https%3A%2F%2Fwww.googleapis.com%2Fauth%2Fdrive&access_type=offline&response_type=code\n",
      "\n",
      "Authentication successful.\n"
     ]
    }
   ],
   "source": [
    "gauth = GoogleAuth()\n",
    "\n",
    "gauth.LoadCredentialsFile(\"mycreds.txt\")\n",
    "if gauth.credentials is None:\n",
    "    # Authenticate if they're not there\n",
    "    gauth.LocalWebserverAuth()\n",
    "elif gauth.access_token_expired:\n",
    "    # Refresh them if expired\n",
    "    gauth.Refresh()\n",
    "else:\n",
    "    # Initialize the saved creds\n",
    "    gauth.Authorize()\n",
    "# Save the current credentials to a file\n",
    "gauth.SaveCredentialsFile(\"mycreds.txt\")\n",
    "\n",
    "drive = GoogleDrive(gauth)"
   ]
  },
  {
   "cell_type": "code",
   "execution_count": 4,
   "metadata": {
    "scrolled": true
   },
   "outputs": [],
   "source": [
    "def get_files(group_name, assignment_name):\n",
    "# Create target Directory if don't exist\n",
    "    loc = group_name + \"/\" + assignment_name\n",
    "\n",
    "    if not os.path.exists(loc):\n",
    "        os.makedirs(loc)\n",
    "        print(\"Directory \" , loc ,  \" Created\")\n",
    "    else:    \n",
    "        print(\"Directory \" , loc ,  \" already exists, \\n i'll delete and create a new one beacause i don't have time to come up with a better algorithm\")\n",
    "        shutil.rmtree(loc)\n",
    "        os.makedirs(loc)\n",
    "    os.chdir(loc)\n",
    "    \n",
    "    print(\"Running...\")\n",
    "    \n",
    "    file_list = drive.ListFile({'q': \"'0B_r2YwxNRUHmfndfT3l5aGw5bzY1Rzd0NkNDemhnc0lxZWtuWUpEcHJDZ2pOY1pYWHdTZ0E' in parents and trashed=false\"}).GetList()\n",
    "    for file1 in file_list:\n",
    "        if group_name in file1['title']:\n",
    "            class_folder = drive.ListFile({'q': \"'%s' in parents and trashed=false\" % file1['id']}).GetList()\n",
    "            for ass_folder in class_folder:\n",
    "                if assignment_name in ass_folder['title'] and ass_folder['mimeType'] == 'application/vnd.google-apps.folder':\n",
    "                    files = drive.ListFile({'q': \"'%s' in parents and trashed=false\" % ass_folder['id']}).GetList()\n",
    "                    for file in files:\n",
    "                        if '.pde' in file['title']:\n",
    "                            if os.path.isdir(file['lastModifyingUserName']):\n",
    "                                os.chdir(file['lastModifyingUserName'])\n",
    "                                number = len(os.listdir('.'))\n",
    "                                index = str(number + 1);\n",
    "                                full_name = index + \".pde\"\n",
    "                                file.GetContentFile(file['title'])\n",
    "                                os.rename(file['title'], full_name)\n",
    "                                print(\"%s, %s, %s\" % (file['lastModifyingUserName'], full_name, file['modifiedDate']))\n",
    "                            elif not os.path.isdir(file['lastModifyingUserName']):\n",
    "                                os.mkdir(file['lastModifyingUserName'])\n",
    "                                os.chdir(file['lastModifyingUserName'])\n",
    "                                file.GetContentFile(file['title'])\n",
    "                                os.rename(file['title'], \"1.pde\")\n",
    "                                print(\"%s, %s, %s\" % (file['lastModifyingUserName'], \"1.pde\", file['modifiedDate']))\n",
    "                            os.chdir(\"../\")   \n",
    "        \n",
    "    os.chdir(\"../../\")\n",
    "    print('Done!')"
   ]
  },
  {
   "cell_type": "code",
   "execution_count": 5,
   "metadata": {
    "scrolled": true
   },
   "outputs": [
    {
     "name": "stdout",
     "output_type": "stream",
     "text": [
      "Directory  SuaCode Africa 1/Assignment 1  already exists, \n",
      " i'll delete and create a new one beacause i don't have time to come up with a better algorithm\n",
      "Running...\n",
      "tiwonge lwara, 1.pde, 2019-05-09T05:54:41.830Z\n",
      "Bright Eru, 1.pde, 2019-05-09T03:26:35.176Z\n",
      "Antony, 1.pde, 2019-05-08T22:41:00.668Z\n",
      "Akomeah Akomeah 2019, 1.pde, 2019-05-08T19:55:57.114Z\n",
      "Daniel Obasuyi, 1.pde, 2019-05-08T14:42:13.469Z\n",
      "Daniel Obasuyi, 2.pde, 2019-05-08T14:41:12.750Z\n",
      "Million Mulugeta, 1.pde, 2019-05-08T12:30:39.726Z\n",
      "Abdulmutalab Musa, 1.pde, 2019-05-08T12:09:48.294Z\n",
      "Alpha Ambari, 1.pde, 2019-05-08T11:58:03.732Z\n",
      "Jessica Tweneboah, 1.pde, 2019-05-08T11:48:24.908Z\n",
      "Brian Chesney, 1.pde, 2019-05-08T11:19:53.253Z\n",
      "Izabayo Dieudonne, 1.pde, 2019-05-08T08:07:39.012Z\n",
      "Hayford Ecliz, 1.pde, 2019-05-08T01:14:32.833Z\n",
      "Cornelius Otchere, 1.pde, 2019-05-07T21:37:24.568Z\n",
      "Cornelius Otchere, 2.pde, 2019-05-07T21:30:14.796Z\n",
      "Bebe Ngb, 1.pde, 2019-05-07T21:26:39.457Z\n",
      "Cornelius Otchere, 3.pde, 2019-05-07T21:23:25.576Z\n",
      "Bockarie Lahai, 1.pde, 2019-05-07T18:18:35.844Z\n",
      "Chila Kasonde, 1.pde, 2019-05-07T11:19:41.763Z\n",
      "odon ndayisenga, 1.pde, 2019-05-07T11:16:10.099Z\n",
      "odon ndayisenga, 2.pde, 2019-05-07T09:34:12.200Z\n",
      "odon ndayisenga, 3.pde, 2019-05-07T09:21:26.441Z\n",
      "Million Mulugeta, 2.pde, 2019-05-07T08:21:57.271Z\n",
      "Van troy Edem, 1.pde, 2019-05-07T08:11:30.850Z\n",
      "Chila Kasonde, 2.pde, 2019-05-07T05:55:38.408Z\n",
      "Chila Kasonde, 3.pde, 2019-05-07T05:55:25.391Z\n",
      "Million Mulugeta, 3.pde, 2019-05-07T00:44:22.781Z\n",
      "Bankole Samuel, 1.pde, 2019-05-06T23:44:44.718Z\n",
      "AFOLABI DANIEL, 1.pde, 2019-05-06T22:26:15.993Z\n",
      "AFOLABI DANIEL, 2.pde, 2019-05-06T22:04:13.395Z\n",
      "Awura Precious, 1.pde, 2019-05-06T20:41:04.507Z\n",
      "Awura Precious, 2.pde, 2019-05-06T20:40:42.693Z\n",
      "Awura Precious, 3.pde, 2019-05-06T20:26:25.413Z\n",
      "odon ndayisenga, 4.pde, 2019-05-06T19:26:27.091Z\n",
      "Done!\n"
     ]
    }
   ],
   "source": [
    "get_files('SuaCode Africa 1', 'Assignment 1')"
   ]
  },
  {
   "cell_type": "code",
   "execution_count": 6,
   "metadata": {},
   "outputs": [
    {
     "name": "stdout",
     "output_type": "stream",
     "text": [
      "Directory  SuaCode Africa 2/Assignment 1  already exists, \n",
      " i'll delete and create a new one beacause i don't have time to come up with a better algorithm\n",
      "Running...\n",
      "NTWARI Jean luc, 1.pde, 2019-05-09T06:58:57.969Z\n",
      "Martin Artey Chigwede, 1.pde, 2019-05-09T04:07:08.479Z\n",
      "Goodness Atunde, 1.pde, 2019-05-08T21:38:26.890Z\n",
      "Proschia Gaisie, 1.pde, 2019-05-08T17:41:55.726Z\n",
      "Proschia Gaisie, 2.pde, 2019-05-08T17:03:42.856Z\n",
      "akambole isaac, 1.pde, 2019-05-08T12:34:46.138Z\n",
      "Bolu Adeleye, 1.pde, 2019-05-08T08:17:46.684Z\n",
      "Adeyemi Stephen, 1.pde, 2019-05-08T07:40:32.564Z\n",
      "Olorunfemi David, 1.pde, 2019-05-08T07:25:42.204Z\n",
      "Olorunfemi David, 2.pde, 2019-05-08T07:20:13.492Z\n",
      "oluwole zacchaeus, 1.pde, 2019-05-08T05:53:40.006Z\n",
      "Laura Asare, 1.pde, 2019-05-07T23:56:41.500Z\n",
      "oluwole zacchaeus, 2.pde, 2019-05-07T22:14:16.768Z\n",
      "Rediet Adugna, 1.pde, 2019-05-07T17:47:03.826Z\n",
      "MARTYNS NWAOKOCHA, 1.pde, 2019-05-07T16:14:07.069Z\n",
      "adetunji badmus, 1.pde, 2019-05-07T14:35:50.724Z\n",
      "Regis Saffi, 1.pde, 2019-05-07T12:52:43.853Z\n",
      "Regis Saffi, 2.pde, 2019-05-07T12:51:18.184Z\n",
      "Muhibbatullah Abdul Fattah, 1.pde, 2019-05-07T11:27:14.644Z\n",
      "9jaopps, 1.pde, 2019-05-07T10:57:58.974Z\n",
      "Muhibbatullah Abdul Fattah, 2.pde, 2019-05-07T10:44:20.907Z\n",
      "manaf sulemana, 1.pde, 2019-05-07T08:57:50.616Z\n",
      "adetunji badmus, 2.pde, 2019-05-07T05:59:47.247Z\n",
      "IBEABUCHI ONYEDIKACHI, 1.pde, 2019-05-07T00:59:34.431Z\n",
      "Litty Bryte, 1.pde, 2019-05-07T00:20:28.367Z\n",
      "David Cyril, 1.pde, 2019-05-06T23:38:36.342Z\n",
      "Regis Saffi, 3.pde, 2019-05-06T22:56:51.031Z\n",
      "silas kolo, 1.pde, 2019-05-06T19:48:23.504Z\n",
      "Dennis Essuman, 1.pde, 2019-05-06T18:38:22.827Z\n",
      "adetunji badmus, 3.pde, 2019-05-06T17:38:39.134Z\n",
      "robert kiprotich, 1.pde, 2019-05-06T17:25:14.426Z\n",
      "Regis Saffi, 4.pde, 2019-05-06T17:07:07.862Z\n",
      "Segun, 1.pde, 2019-05-06T16:56:03.642Z\n",
      "silas kolo, 2.pde, 2019-05-06T15:06:37.559Z\n",
      "silas kolo, 3.pde, 2019-05-06T14:38:35.209Z\n",
      "Done!\n"
     ]
    }
   ],
   "source": [
    "get_files('SuaCode Africa 2', 'Assignment 1')"
   ]
  },
  {
   "cell_type": "code",
   "execution_count": 7,
   "metadata": {},
   "outputs": [
    {
     "name": "stdout",
     "output_type": "stream",
     "text": [
      "Directory  SuaCode Africa 3/Assignment 1  already exists, \n",
      " i'll delete and create a new one beacause i don't have time to come up with a better algorithm\n",
      "Running...\n",
      "Done!\n"
     ]
    }
   ],
   "source": [
    "get_files('SuaCode Africa 3', 'Assignment 1')"
   ]
  },
  {
   "cell_type": "code",
   "execution_count": 8,
   "metadata": {},
   "outputs": [
    {
     "data": {
      "text/plain": [
       "0"
      ]
     },
     "execution_count": 8,
     "metadata": {},
     "output_type": "execute_result"
    }
   ],
   "source": [
    "myCmd = 'processing-java --sketch=\"' + os.getcwd() + '\\..\\\\pong_1\" --output=\"' + os.getcwd() + '\\..\\\\pong_1\\\\build\"' + ' --force --run'\n",
    "newMyCmd = myCmd.replace(\"\\\\\", \"\\\\\\\\\")\n",
    "\n",
    "os.system(newMyCmd)"
   ]
  },
  {
   "cell_type": "code",
   "execution_count": 9,
   "metadata": {},
   "outputs": [],
   "source": [
    "#def get_latest_files():  \n",
    "    \n",
    "    #dirs = os.listdir(os.getcwd())\n",
    "    #for name in dirs:\n",
    "        #list_of_files = glob.glob(name + \"/*.pde\")\n",
    "        #latest_file = max(list_of_files, key=file['modifiedDate'])\n",
    "        \n",
    "        #print (latest_file)\n",
    "        \n",
    "        #f = open(\"latest_files.txt\",\"a+\")\n",
    "        #f.write(\"%s \\n\" % (latest_file))"
   ]
  },
  {
   "cell_type": "code",
   "execution_count": 10,
   "metadata": {},
   "outputs": [
    {
     "data": {
      "text/plain": [
       "'C:\\\\Users\\\\Raymond Tetteh\\\\Desktop\\\\autograd\\\\autograd_py'"
      ]
     },
     "execution_count": 10,
     "metadata": {},
     "output_type": "execute_result"
    }
   ],
   "source": [
    "os.getcwd()"
   ]
  },
  {
   "cell_type": "code",
   "execution_count": null,
   "metadata": {},
   "outputs": [],
   "source": []
  }
 ],
 "metadata": {
  "kernelspec": {
   "display_name": "Python 3",
   "language": "python",
   "name": "python3"
  },
  "language_info": {
   "codemirror_mode": {
    "name": "ipython",
    "version": 3
   },
   "file_extension": ".py",
   "mimetype": "text/x-python",
   "name": "python",
   "nbconvert_exporter": "python",
   "pygments_lexer": "ipython3",
   "version": "3.7.3"
  }
 },
 "nbformat": 4,
 "nbformat_minor": 2
}
