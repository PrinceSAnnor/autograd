{
 "cells": [
  {
   "cell_type": "code",
   "execution_count": 1,
   "metadata": {},
   "outputs": [],
   "source": [
    "import glob\n",
    "import os\n",
    "import shutil"
   ]
  },
  {
   "cell_type": "code",
   "execution_count": 2,
   "metadata": {},
   "outputs": [],
   "source": [
    "from pydrive.auth import GoogleAuth\n",
    "from pydrive.drive import GoogleDrive"
   ]
  },
  {
   "cell_type": "code",
   "execution_count": 3,
   "metadata": {},
   "outputs": [],
   "source": [
    "gauth = GoogleAuth()\n",
    "\n",
    "gauth.LoadCredentialsFile(\"mycreds.txt\")\n",
    "if gauth.credentials is None:\n",
    "    # Authenticate if they're not there\n",
    "    gauth.LocalWebserverAuth()\n",
    "elif gauth.access_token_expired:\n",
    "    # Refresh them if expired\n",
    "    gauth.Refresh()\n",
    "else:\n",
    "    # Initialize the saved creds\n",
    "    gauth.Authorize()\n",
    "# Save the current credentials to a file\n",
    "gauth.SaveCredentialsFile(\"mycreds.txt\")\n",
    "\n",
    "drive = GoogleDrive(gauth)"
   ]
  },
  {
   "cell_type": "code",
   "execution_count": 4,
   "metadata": {
    "scrolled": true
   },
   "outputs": [],
   "source": [
    "def get_files(group_name, assignment_name):\n",
    "# Create target Directory if don't exist\n",
    "    loc = group_name + \"/\" + assignment_name\n",
    "\n",
    "    if not os.path.exists(loc):\n",
    "        os.makedirs(loc)\n",
    "        print(\"Directory \" , loc ,  \" Created\")\n",
    "    else:    \n",
    "        print(\"Directory \" , loc ,  \" already exists\")\n",
    "    \n",
    "    os.chdir(loc)\n",
    "    \n",
    "    print(\"Running...\")\n",
    "    \n",
    "    file_list = drive.ListFile({'q': \"'0B_r2YwxNRUHmfndfT3l5aGw5bzY1Rzd0NkNDemhnc0lxZWtuWUpEcHJDZ2pOY1pYWHdTZ0E' in parents and trashed=false\"}).GetList()\n",
    "    for file1 in file_list:\n",
    "        if group_name in file1['title']:\n",
    "            class_folder = drive.ListFile({'q': \"'%s' in parents and trashed=false\" % file1['id']}).GetList()\n",
    "            for ass_folder in class_folder:\n",
    "                if assignment_name in ass_folder['title'] and ass_folder['mimeType'] == 'application/vnd.google-apps.folder':\n",
    "                    files = drive.ListFile({'q': \"'%s' in parents and trashed=false\" % ass_folder['id']}).GetList()\n",
    "                    for file in files:\n",
    "                        if '.pde' in file['title']:\n",
    "                            if os.path.isdir(file['lastModifyingUserName']):\n",
    "                                os.chdir(file['lastModifyingUserName'])\n",
    "                                number = len(os.listdir('.'))\n",
    "                                index = str(number + 1);\n",
    "                                full_name = index + \".pde\"\n",
    "                                file.GetContentFile(file['title'])\n",
    "                                os.rename(file['title'], full_name)\n",
    "                            elif not os.path.isdir(file['lastModifyingUserName']):\n",
    "                                os.mkdir(file['lastModifyingUserName'])\n",
    "                                os.chdir(file['lastModifyingUserName'])\n",
    "                                file.GetContentFile(file['title'])\n",
    "                                os.rename(file['title'], \"1.pde\")\n",
    "                            os.chdir(\"../\")   \n",
    "    try:\n",
    "        get_latest_files()\n",
    "    except: \n",
    "        print(\"coudnt do it\");\n",
    "    os.chdir(\"../../\")\n",
    "    print('Done!')"
   ]
  },
  {
   "cell_type": "code",
   "execution_count": 5,
   "metadata": {},
   "outputs": [],
   "source": [
    "def get_latest_files():  \n",
    "    \n",
    "    dirs = os.listdir(os.getcwd())\n",
    "    for name in dirs:\n",
    "        list_of_files = glob.glob(name + \"/*.pde\")\n",
    "        latest_file = max(list_of_files, key=os.path.getctime)\n",
    "        print (latest_file)\n",
    "        \n",
    "        f = open(\"latest_files.txt\",\"a+\")\n",
    "        f.write(\"%s \\n\" % (latest_file))"
   ]
  },
  {
   "cell_type": "code",
   "execution_count": 6,
   "metadata": {},
   "outputs": [
    {
     "name": "stdout",
     "output_type": "stream",
     "text": [
      "Directory  SuaCode Africa 1/Assignment 1  Created\n",
      "Running...\n",
      "AFOLABI DANIEL\\1.pde\n",
      "Awura Precious\\1.pde\n",
      "Bankole Samuel\\1.pde\n",
      "Chila Kasonde\\1.pde\n",
      "Million Mulugeta\\1.pde\n",
      "odon ndayisenga\\4.pde\n",
      "Van troy Edem\\1.pde\n",
      "Done!\n"
     ]
    }
   ],
   "source": [
    "get_files('SuaCode Africa 1', 'Assignment 1')"
   ]
  },
  {
   "cell_type": "code",
   "execution_count": 9,
   "metadata": {},
   "outputs": [
    {
     "name": "stdout",
     "output_type": "stream",
     "text": [
      "Directory  SuaCode Africa 2/Assignment 1  Created\n",
      "Running...\n",
      "9jaopps\\1.pde\n",
      "adetunji badmus\\2.pde\n",
      "David Cyril\\1.pde\n",
      "Dennis Essuman\\1.pde\n",
      "IBEABUCHI ONYEDIKACHI\\2.pde\n",
      "Litty Bryte\\1.pde\n",
      "manaf sulemana\\1.pde\n",
      "Muhibbatullah Abdul Fattah\\1.pde\n",
      "Regis Saffi\\1.pde\n",
      "robert kiprotich\\1.pde\n",
      "Segun\\1.pde\n",
      "silas kolo\\2.pde\n",
      "Done!\n"
     ]
    }
   ],
   "source": [
    "get_files('SuaCode Africa 2', 'Assignment 1')"
   ]
  },
  {
   "cell_type": "code",
   "execution_count": 10,
   "metadata": {},
   "outputs": [
    {
     "name": "stdout",
     "output_type": "stream",
     "text": [
      "Directory  SuaCode Africa 3/Assignment 1  Created\n",
      "Running...\n",
      "Done!\n"
     ]
    }
   ],
   "source": [
    "get_files('SuaCode Africa 3', 'Assignment 1')"
   ]
  },
  {
   "cell_type": "code",
   "execution_count": null,
   "metadata": {},
   "outputs": [],
   "source": []
  }
 ],
 "metadata": {
  "kernelspec": {
   "display_name": "Python 3",
   "language": "python",
   "name": "python3"
  },
  "language_info": {
   "codemirror_mode": {
    "name": "ipython",
    "version": 3
   },
   "file_extension": ".py",
   "mimetype": "text/x-python",
   "name": "python",
   "nbconvert_exporter": "python",
   "pygments_lexer": "ipython3",
   "version": "3.7.3"
  }
 },
 "nbformat": 4,
 "nbformat_minor": 2
}
