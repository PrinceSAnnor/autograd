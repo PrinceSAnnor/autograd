{
 "cells": [
  {
   "cell_type": "code",
   "execution_count": 19,
   "metadata": {},
   "outputs": [],
   "source": [
    "from __future__ import print_function\n",
    "import pickle, os.path, json\n",
    "from googleapiclient.errors import HttpError\n",
    "from googleapiclient.discovery import build\n",
    "from google_auth_oauthlib.flow import InstalledAppFlow\n",
    "from google.auth.transport.requests import Request"
   ]
  },
  {
   "cell_type": "code",
   "execution_count": 20,
   "metadata": {},
   "outputs": [],
   "source": [
    "import json\n",
    "import requests"
   ]
  },
  {
   "cell_type": "code",
   "execution_count": 21,
   "metadata": {},
   "outputs": [],
   "source": [
    "# If modifying these scopes, delete the file token.pickle.\n",
    "SCOPES = [\n",
    "          'https://www.googleapis.com/auth/classroom.courses',\n",
    "          'https://www.googleapis.com/auth/classroom.coursework.students',\n",
    "          'https://www.googleapis.com/auth/classroom.coursework.me'\n",
    "         ] "
   ]
  },
  {
   "cell_type": "code",
   "execution_count": 22,
   "metadata": {},
   "outputs": [
    {
     "name": "stdout",
     "output_type": "stream",
     "text": [
      "Please visit this URL to authorize this application: https://accounts.google.com/o/oauth2/auth?response_type=code&client_id=977164804267-d79kh905vrdeqjata0iuh33ocsu9oukc.apps.googleusercontent.com&redirect_uri=http%3A%2F%2Flocalhost%3A8080%2F&scope=https%3A%2F%2Fwww.googleapis.com%2Fauth%2Fclassroom.courses+https%3A%2F%2Fwww.googleapis.com%2Fauth%2Fclassroom.coursework.students+https%3A%2F%2Fwww.googleapis.com%2Fauth%2Fclassroom.coursework.me&state=8Ry9uYJtQQaefCV67sWmioJbG9psPJ&access_type=offline\n"
     ]
    }
   ],
   "source": [
    "creds = None\n",
    "# The file token.pickle stores the user's access and refresh tokens, and is\n",
    "# created automatically when the authorization flow completes for the first\n",
    "# time.\n",
    "if os.path.exists('token.pickle'):\n",
    "    with open('token.pickle', 'rb') as token:\n",
    "        creds = pickle.load(token)\n",
    "# If there are no (valid) credentials available, let the user log in.\n",
    "if not creds or not creds.valid:\n",
    "    if creds and creds.expired and creds.refresh_token:\n",
    "        creds.refresh(Request())\n",
    "    else:\n",
    "        flow = InstalledAppFlow.from_client_secrets_file(\n",
    "            'credentials.json', SCOPES)\n",
    "        creds = flow.run_local_server()\n",
    "    # Save the credentials for the next run\n",
    "    with open('token.pickle', 'wb') as token:\n",
    "        pickle.dump(creds, token)\n",
    "\n",
    "# Store on obj\n",
    "service = build('classroom', 'v1', credentials=creds)"
   ]
  },
  {
   "cell_type": "code",
   "execution_count": 124,
   "metadata": {},
   "outputs": [],
   "source": [
    "def get_all_courses():\n",
    "    # Call the Classroom API\n",
    "    list_of_courses = {}\n",
    "    results = service.courses().list(pageSize=10,).execute()\n",
    "    courses = results.get('courses', [])\n",
    "\n",
    "    #print(results)\n",
    "    f = open('courses.json', 'w+')\n",
    "    f.write(json.dumps(results))\n",
    "    f.close()\n",
    "\n",
    "    if not courses:\n",
    "        print('No courses found.')\n",
    "    else:\n",
    "        print('Courses:')\n",
    "        for course in courses:\n",
    "            list_of_courses[course['name']] = course['id']\n",
    "\n",
    "    return list_of_courses"
   ]
  },
  {
   "cell_type": "code",
   "execution_count": 125,
   "metadata": {},
   "outputs": [
    {
     "name": "stdout",
     "output_type": "stream",
     "text": [
      "Courses:\n",
      "36784271501\n"
     ]
    }
   ],
   "source": [
    "courses = get_all_courses()\n",
    "course_id = courses['Test Class']\n",
    "\n",
    "print(course_id)"
   ]
  },
  {
   "cell_type": "code",
   "execution_count": 127,
   "metadata": {},
   "outputs": [],
   "source": [
    "def get_all_assignments(course_id):\n",
    "    #get all courseWork for Course\n",
    "    list_of_assignments = {}\n",
    "    courseWorks = service.courses().courseWork().list(\n",
    "        courseId=course_id).execute()\n",
    "    courseWork = courseWorks.get('courseWork', [])\n",
    "\n",
    "    if not courseWork:\n",
    "        print('No courseWork found.')\n",
    "    else:\n",
    "        print('courseWork:')\n",
    "        for work in courseWork:\n",
    "            list_of_assignments[work['title']] = work['id']\n",
    "            \n",
    "    return list_of_assignments"
   ]
  },
  {
   "cell_type": "code",
   "execution_count": 132,
   "metadata": {},
   "outputs": [
    {
     "name": "stdout",
     "output_type": "stream",
     "text": [
      "courseWork:\n",
      "36791124697\n"
     ]
    }
   ],
   "source": [
    "assignments = get_all_assignments(course_id)\n",
    "assignment_id = assignments['Assignment 1 - Make Pong Interface']\n",
    "\n",
    "print(assignment_id)"
   ]
  },
  {
   "cell_type": "code",
   "execution_count": 133,
   "metadata": {},
   "outputs": [
    {
     "name": "stdout",
     "output_type": "stream",
     "text": [
      "studentSubmissions:\n",
      "Cg0IpsDPnSkQ2YWwh4kB 110544833030086357366\n",
      "Cg0IsYmxkGwQ2YWwh4kB 111563391117804030607\n"
     ]
    }
   ],
   "source": [
    "# Get assignment submissions\n",
    "assignment_submissions = {}\n",
    "submissions = service.courses().courseWork().studentSubmissions().list(\n",
    "    courseId=course_id, \n",
    "    courseWorkId=assignment_id,\n",
    ").execute()\n",
    "\n",
    "studentSubmissions = submissions.get('studentSubmissions', [])\n",
    "\n",
    "if not studentSubmissions:\n",
    "    print('No studentSubmissions found.')\n",
    "else:\n",
    "    print('studentSubmissions:')\n",
    "    for studentSubmission in studentSubmissions:\n",
    "        print(studentSubmission['id'], studentSubmission['userId'])"
   ]
  },
  {
   "cell_type": "code",
   "execution_count": 136,
   "metadata": {},
   "outputs": [
    {
     "name": "stdout",
     "output_type": "stream",
     "text": [
      "{'studentSubmissions': [{'courseId': '36784271501', 'courseWorkId': '36791124697', 'id': 'Cg0IpsDPnSkQ2YWwh4kB', 'userId': '110544833030086357366', 'creationTime': '2019-05-17T15:42:53.684Z', 'updateTime': '2019-05-17T15:42:53.673Z', 'state': 'CREATED', 'alternateLink': 'https://classroom.google.com/c/MzY3ODQyNzE1MDFa/a/MzY3OTExMjQ2OTda/submissions/student/MTEwNjc5NzM2NzBa', 'courseWorkType': 'ASSIGNMENT', 'assignmentSubmission': {}, 'associatedWithDeveloper': True, 'submissionHistory': [{'stateHistory': {'state': 'CREATED', 'stateTimestamp': '2019-05-17T15:42:53.673Z', 'actorUserId': '110544833030086357366'}}]}, {'courseId': '36784271501', 'courseWorkId': '36791124697', 'id': 'Cg0IsYmxkGwQ2YWwh4kB', 'userId': '111563391117804030607', 'creationTime': '2019-05-17T15:42:53.684Z', 'updateTime': '2019-05-17T15:42:53.673Z', 'state': 'CREATED', 'alternateLink': 'https://classroom.google.com/c/MzY3ODQyNzE1MDFa/a/MzY3OTExMjQ2OTda/submissions/student/MjkwMjUzODc2OTda', 'courseWorkType': 'ASSIGNMENT', 'assignmentSubmission': {}, 'associatedWithDeveloper': True, 'submissionHistory': [{'stateHistory': {'state': 'CREATED', 'stateTimestamp': '2019-05-17T15:42:53.673Z', 'actorUserId': '111563391117804030607'}}]}]}\n",
      "studentSubmissions:\n",
      "Cg0IpsDPnSkQ2YWwh4kB 110544833030086357366\n",
      "Cg0IsYmxkGwQ2YWwh4kB 111563391117804030607\n"
     ]
    }
   ],
   "source": [
    "# Get a student's assignment submissions\n",
    "submissions = service.courses().courseWork().studentSubmissions().list(\n",
    "    courseId=course_id, \n",
    "    courseWorkId=assignment_id,\n",
    ").execute()\n",
    "\n",
    "print(submissions)\n",
    "studentSubmissions = submissions.get('studentSubmissions', [])\n",
    "\n",
    "if not studentSubmissions:\n",
    "    print('No studentSubmissions found.')\n",
    "else:\n",
    "    print('studentSubmissions:')\n",
    "    for studentSubmission in studentSubmissions:\n",
    "        print(studentSubmission['id'], studentSubmission['userId'])"
   ]
  },
  {
   "cell_type": "code",
   "execution_count": 134,
   "metadata": {
    "scrolled": true
   },
   "outputs": [],
   "source": [
    "def send_results(course_id, assignment_id, submission_id, grade):\n",
    "    # grade an assignment\n",
    "    reqs =  {\n",
    "                'assignedGrade': grade,\n",
    "                'draftGrade': grade\n",
    "            } \n",
    "\n",
    "    submissions = service.courses().courseWork().studentSubmissions().patch(\n",
    "        courseId=course_id, \n",
    "        courseWorkId=assignment_id, \n",
    "        id=submission_id, \n",
    "        updateMask = 'assignedGrade,draftGrade', \n",
    "        body = reqs,\n",
    "    ).execute()\n",
    "\n",
    "    print('success')"
   ]
  },
  {
   "cell_type": "code",
   "execution_count": 118,
   "metadata": {},
   "outputs": [],
   "source": [
    "#creating a course\n",
    "course_details = {\n",
    "  \"title\": \"Assignment 1 - Make Pong Interface\",\n",
    "  \"materials\": [\n",
    "    {\n",
    "      \"driveFile\": {\n",
    "        \"driveFile\":{\n",
    "          'id': '1uNwWfBI9-JTlcmh4OZ8W9s7xPc9EuoupEIx6inne9iQ',\n",
    "          \"title\": 'Assignment 1 - Make Pong Interface',\n",
    "          \"alternateLink\": 'https://drive.google.com/open?id=1uNwWfBI9-JTlcmh4OZ8W9s7xPc9EuoupEIx6inne9iQ'\n",
    "        },\n",
    "        'shareMode': 'VIEW'\n",
    "      },\n",
    "    }\n",
    "  ],\n",
    "  \"state\": 'PUBLISHED',\n",
    "  \"dueDate\": {\n",
    "    \"year\": 2019,\n",
    "    \"month\": 5,\n",
    "    \"day\": 18\n",
    "  },\n",
    "  \"dueTime\": {\n",
    "    \"hours\": 18,\n",
    "    \"minutes\": 00,\n",
    "    \"seconds\": 00,\n",
    "  },\n",
    "  \"maxPoints\": 20,\n",
    "  \"workType\": 'ASSIGNMENT',\n",
    "  \"assigneeMode\": 'ALL_STUDENTS',\n",
    "  \"creatorUserId\": 'me',\n",
    "\n",
    "#   \"assignment\": {\n",
    "#     object(Assignment)\n",
    "#   },\n",
    "}\n",
    "    \n",
    "#create coursework/assignment\n",
    "submissions = service.courses().courseWork().create( \n",
    "    courseId = course_id,\n",
    "    body = course_details\n",
    ").execute()"
   ]
  },
  {
   "cell_type": "code",
   "execution_count": null,
   "metadata": {},
   "outputs": [],
   "source": []
  }
 ],
 "metadata": {
  "kernelspec": {
   "display_name": "Python 3",
   "language": "python",
   "name": "python3"
  },
  "language_info": {
   "codemirror_mode": {
    "name": "ipython",
    "version": 3
   },
   "file_extension": ".py",
   "mimetype": "text/x-python",
   "name": "python",
   "nbconvert_exporter": "python",
   "pygments_lexer": "ipython3",
   "version": "3.7.3"
  }
 },
 "nbformat": 4,
 "nbformat_minor": 2
}
