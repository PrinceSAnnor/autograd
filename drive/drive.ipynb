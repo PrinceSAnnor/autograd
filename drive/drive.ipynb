{
 "cells": [
  {
   "cell_type": "code",
   "execution_count": 7,
   "metadata": {},
   "outputs": [],
   "source": [
    "import glob\n",
    "import os\n",
    "import shutil"
   ]
  },
  {
   "cell_type": "code",
   "execution_count": 8,
   "metadata": {},
   "outputs": [],
   "source": [
    "from pydrive.auth import GoogleAuth\n",
    "from pydrive.drive import GoogleDrive"
   ]
  },
  {
   "cell_type": "code",
   "execution_count": 9,
   "metadata": {},
   "outputs": [],
   "source": [
    "gauth = GoogleAuth()\n",
    "\n",
    "gauth.LoadCredentialsFile(\"mycreds.txt\")\n",
    "if gauth.credentials is None:\n",
    "    # Authenticate if they're not there\n",
    "    gauth.LocalWebserverAuth()\n",
    "elif gauth.access_token_expired:\n",
    "    # Refresh them if expired\n",
    "    gauth.Refresh()\n",
    "else:\n",
    "    # Initialize the saved creds\n",
    "    gauth.Authorize()\n",
    "# Save the current credentials to a file\n",
    "gauth.SaveCredentialsFile(\"mycreds.txt\")\n",
    "\n",
    "drive = GoogleDrive(gauth)"
   ]
  },
  {
   "cell_type": "code",
   "execution_count": 10,
   "metadata": {
    "scrolled": true
   },
   "outputs": [],
   "source": [
    "def get_files(group_name, assignment_name):\n",
    "# Create target Directory if don't exist\n",
    "    loc = \"../assets/code/\" + group_name + \"/\" + assignment_name\n",
    "\n",
    "    if not os.path.exists(loc):\n",
    "        os.makedirs(loc)\n",
    "        print(\"Directory \" , loc ,  \" Created\")\n",
    "    else:    \n",
    "        print(\"Directory \" , loc ,  \" already exists, \\ni'll delete and create a new one beacause i don't have time to come up with a better algorithm\")\n",
    "        shutil.rmtree(loc)\n",
    "        os.makedirs(loc)\n",
    "    os.chdir(loc)\n",
    "    \n",
    "    print(\"Running...\")\n",
    "    \n",
    "    file_list = drive.ListFile({'q': \"'0B_r2YwxNRUHmfndfT3l5aGw5bzY1Rzd0NkNDemhnc0lxZWtuWUpEcHJDZ2pOY1pYWHdTZ0E' in parents and trashed=false\"}).GetList()\n",
    "    for file1 in file_list:\n",
    "        if group_name in file1['title']:\n",
    "            class_folder = drive.ListFile({'q': \"'%s' in parents and trashed=false\" % file1['id']}).GetList()\n",
    "            for ass_folder in class_folder:\n",
    "                if assignment_name in ass_folder['title'] and ass_folder['mimeType'] == 'application/vnd.google-apps.folder':\n",
    "                    files = drive.ListFile({'q': \"'%s' in parents and trashed=false\" % ass_folder['id']}).GetList()\n",
    "                    for file in files:\n",
    "                        if '.pde' in file['title']:\n",
    "                            if os.path.isdir(file['lastModifyingUserName']):\n",
    "                                os.chdir(file['lastModifyingUserName'])\n",
    "                                number = len(os.listdir('.'))\n",
    "                                index = str(number + 1);\n",
    "                                full_name = index + \".pde\"\n",
    "                                file.GetContentFile(file['title'])\n",
    "                                os.rename(file['title'], full_name)\n",
    "                                print(\"%s, %s, %s\" % (file['lastModifyingUserName'], full_name, file['modifiedDate']))\n",
    "                            elif not os.path.isdir(file['lastModifyingUserName']):\n",
    "                                os.mkdir(file['lastModifyingUserName'])\n",
    "                                os.chdir(file['lastModifyingUserName'])\n",
    "                                file.GetContentFile(file['title'])\n",
    "                                os.rename(file['title'], \"1.pde\")\n",
    "                                print(\"%s, %s, %s\" % (file['lastModifyingUserName'], \"1.pde\", file['modifiedDate']))\n",
    "                            os.chdir(\"../\")   \n",
    "        \n",
    "    os.chdir(\"../../../../drive\")#bad code... but using jupyter, will fix later\n",
    "    print('Done!')"
   ]
  },
  {
   "cell_type": "code",
   "execution_count": 11,
   "metadata": {
    "scrolled": true
   },
   "outputs": [
    {
     "name": "stdout",
     "output_type": "stream",
     "text": [
      "Directory  ../assets/code/SuaCode Africa 1/Assignment 1  already exists, \n",
      "i'll delete and create a new one beacause i don't have time to come up with a better algorithm\n",
      "Running...\n",
      "Christopher Thomaz Ebosie, 1.pde, 2019-05-16T21:57:19.388Z\n",
      "Casino Temidayograil, 1.pde, 2019-05-16T19:21:00.123Z\n",
      "Casino Temidayograil, 2.pde, 2019-05-16T19:18:40.950Z\n",
      "Casino Temidayograil, 3.pde, 2019-05-16T19:17:51.884Z\n",
      "Casino Temidayograil, 4.pde, 2019-05-16T19:15:40.137Z\n",
      "Casino Temidayograil, 5.pde, 2019-05-16T19:15:05.011Z\n",
      "Casino Temidayograil, 6.pde, 2019-05-16T19:13:41.614Z\n",
      "Brian Oballa, 1.pde, 2019-05-16T19:13:14.268Z\n",
      "Casino Temidayograil, 7.pde, 2019-05-16T19:11:51.618Z\n",
      "Berkia Banda, 1.pde, 2019-05-16T19:01:31.709Z\n",
      "alice nkhoma, 1.pde, 2019-05-16T18:58:36.263Z\n",
      "Brian Oballa, 2.pde, 2019-05-16T18:48:52.535Z\n",
      "Augustine Noah, 1.pde, 2019-05-16T17:34:26.424Z\n",
      "Ubah Rita Chisom, 1.pde, 2019-05-16T17:02:20.381Z\n",
      "DOMINIC TANUI, 1.pde, 2019-05-16T14:19:59.011Z\n",
      "Samuel Faith, 1.pde, 2019-05-16T11:53:58.066Z\n",
      "GANDEPUUN PHILIP TERKURA, 1.pde, 2019-05-16T09:55:29.056Z\n",
      "Nahom Kiros, 1.pde, 2019-05-16T05:25:34.690Z\n",
      "Nahom Kiros, 2.pde, 2019-05-16T05:24:54.179Z\n",
      "Nahom Kiros, 3.pde, 2019-05-16T05:24:07.598Z\n",
      "Nahom Kiros, 4.pde, 2019-05-16T05:23:19.773Z\n",
      "Nahom Kiros, 5.pde, 2019-05-16T05:22:41.318Z\n",
      "Alieu Suwaneh, 1.pde, 2019-05-15T23:41:39.993Z\n",
      "Ozavize Alabi, 1.pde, 2019-05-15T23:09:45.213Z\n",
      "Norma Mkhize, 1.pde, 2019-05-15T22:55:51.876Z\n",
      "Fiston Munyampeta, 1.pde, 2019-05-15T22:53:46.362Z\n",
      "ademola ademuyiwa, 1.pde, 2019-05-15T22:51:33.812Z\n",
      "Elizabeth Fio, 1.pde, 2019-05-15T22:43:49.483Z\n",
      "Fiston Munyampeta, 2.pde, 2019-05-15T22:43:42.862Z\n",
      "Elochukwu Uzim, 1.pde, 2019-05-15T21:52:07.206Z\n",
      "OLASUPO OLUSEGUN, 1.pde, 2019-05-15T18:15:08.583Z\n",
      "edem boniface, 1.pde, 2019-05-15T17:38:05.630Z\n",
      "Manga Clémence, 1.pde, 2019-05-15T16:31:02.183Z\n",
      "Aimé Iradukunda, 1.pde, 2019-05-15T15:35:58.368Z\n",
      "Aimé Iradukunda, 2.pde, 2019-05-15T15:34:27.083Z\n",
      "Aldo Adomati, 1.pde, 2019-05-15T12:12:27.866Z\n",
      "Miracle Obi, 1.pde, 2019-05-15T11:34:15.687Z\n",
      "Albert Atta Bekoe, 1.pde, 2019-05-15T11:14:03.750Z\n",
      "Albert Atta Bekoe, 2.pde, 2019-05-15T11:06:46.883Z\n",
      "Gashaw Assefa, 1.pde, 2019-05-15T10:32:52.123Z\n",
      "Osmond Martey, 1.pde, 2019-05-15T09:56:41.386Z\n",
      "Mawuli Mensah, 1.pde, 2019-05-15T07:40:07.596Z\n",
      "OSELUESE AKHIMIEN, 1.pde, 2019-05-15T04:37:26.878Z\n",
      "OSELUESE AKHIMIEN, 2.pde, 2019-05-15T04:34:49.494Z\n",
      "The Word Of God Is Spirit And Life, 1.pde, 2019-05-15T03:37:22.638Z\n",
      "Henry Jcil, 1.pde, 2019-05-15T00:02:39.523Z\n",
      "Ogochukwu Okeke, 1.pde, 2019-05-14T20:35:05.504Z\n",
      "Ogochukwu Okeke, 2.pde, 2019-05-14T20:15:37.111Z\n",
      "Premier Dan Accelerated Venture, 1.pde, 2019-05-14T18:52:47.078Z\n",
      "linder achie, 1.pde, 2019-05-14T16:31:03.355Z\n",
      "linder achie, 2.pde, 2019-05-14T16:21:11.842Z\n",
      "James Owusu-Appiah, 1.pde, 2019-05-14T13:46:31.861Z\n",
      "James Owusu-Appiah, 2.pde, 2019-05-14T13:42:05.464Z\n",
      "John Oluwasola, 1.pde, 2019-05-14T13:40:29.927Z\n",
      "Emmanuel Lulu Chaciga, 1.pde, 2019-05-14T05:17:07.388Z\n",
      "Hanna Daniel, 1.pde, 2019-05-14T03:56:00.876Z\n",
      "Wiam Fouaz, 1.pde, 2019-05-14T01:39:38.300Z\n",
      "Emmanuel Alexander, 1.pde, 2019-05-13T22:06:18.968Z\n",
      "Wisdom Okwen, 1.pde, 2019-05-13T21:37:22.498Z\n",
      "kez sam, 1.pde, 2019-05-13T21:31:45.779Z\n",
      "kez sam, 2.pde, 2019-05-13T21:31:23.110Z\n",
      "skyper gee, 1.pde, 2019-05-13T19:47:19.528Z\n",
      "Bockarie Lahai, 1.pde, 2019-05-13T18:51:48.512Z\n",
      "Awanto Magaret, 1.pde, 2019-05-13T17:03:21.432Z\n",
      "Precious Chimbala, 1.pde, 2019-05-13T14:54:26.117Z\n",
      "IBRAHIM ISAH, 1.pde, 2019-05-13T14:34:41.667Z\n",
      "esther mueni, 1.pde, 2019-05-13T13:41:45.643Z\n",
      "esther mueni, 2.pde, 2019-05-13T13:41:32.396Z\n",
      "Liz Gathura, 1.pde, 2019-05-13T10:20:14.131Z\n",
      "nalubega geraldine Grace, 1.pde, 2019-05-13T09:18:17.561Z\n",
      "nalubega geraldine Grace, 2.pde, 2019-05-13T09:01:24.559Z\n",
      "Bakambwe Joel, 1.pde, 2019-05-13T08:34:52.553Z\n",
      "Sylvester Agyei, 1.pde, 2019-05-12T22:18:31.608Z\n",
      "JONAS ACCAM, 1.pde, 2019-05-12T21:30:55.255Z\n",
      "JONAS ACCAM, 2.pde, 2019-05-12T20:49:35.557Z\n",
      "Emmanuel Alexander, 2.pde, 2019-05-12T16:27:50.992Z\n",
      "linder achie, 3.pde, 2019-05-12T14:29:34.778Z\n",
      "linder achie, 4.pde, 2019-05-12T12:49:30.462Z\n",
      "Junior Chimbala, 1.pde, 2019-05-12T11:52:28.791Z\n",
      "Bikorimana Desire, 1.pde, 2019-05-12T11:03:25.598Z\n",
      "samuel whyte, 1.pde, 2019-05-12T10:59:05.694Z\n",
      "JOSEPH ASARE AWUAH, 1.pde, 2019-05-12T03:12:04.339Z\n",
      "JOSEPH ASARE AWUAH, 2.pde, 2019-05-12T02:55:59.478Z\n",
      "JOSEPH ASARE AWUAH, 3.pde, 2019-05-12T02:52:33.749Z\n",
      "JOSEPH ASARE AWUAH, 4.pde, 2019-05-12T02:47:24.389Z\n",
      "Emery Abel-Achinulo, 1.pde, 2019-05-12T00:54:58.445Z\n",
      "Emmanuel Alexander, 3.pde, 2019-05-12T00:54:42.524Z\n",
      "Abbah Felix, 1.pde, 2019-05-11T11:57:33.322Z\n",
      "Edwin Meria, 1.pde, 2019-05-11T04:57:03.256Z\n",
      "Abbah Felix, 2.pde, 2019-05-10T22:57:39.193Z\n",
      "Van troy Edem, 1.pde, 2019-05-10T21:06:53.553Z\n",
      "Bebe Ngb, 1.pde, 2019-05-10T17:31:06.802Z\n",
      "Bebe Ngb, 2.pde, 2019-05-10T17:30:50.034Z\n",
      "Alfred Ogada, 1.pde, 2019-05-10T16:19:28.935Z\n",
      "Hanna Daniel, 2.pde, 2019-05-10T14:20:07.434Z\n",
      "Wogu Nnodim Eliot, 1.pde, 2019-05-10T11:41:29.068Z\n",
      "Fanga Angie, 1.pde, 2019-05-10T01:35:41.729Z\n",
      "Victor Iheduru, 1.pde, 2019-05-09T22:28:15.111Z\n",
      "JOHN SAMUEL, 1.pde, 2019-05-09T17:33:38.969Z\n",
      "Edwin Meria, 2.pde, 2019-05-09T17:03:47.784Z\n",
      "Edwin Meria, 3.pde, 2019-05-09T17:00:16.020Z\n",
      "Mouhamadou Sakhir Yade, 1.pde, 2019-05-09T16:29:12.696Z\n",
      "Mouhamadou Sakhir Yade, 2.pde, 2019-05-09T16:27:57.131Z\n",
      "Okemiri Chibueze, 1.pde, 2019-05-09T16:17:24.841Z\n",
      "OLASUPO OLUSEGUN, 2.pde, 2019-05-09T15:21:58.333Z\n",
      "OLASUPO OLUSEGUN, 3.pde, 2019-05-09T12:40:42.168Z\n",
      "Huawi Peace, 1.pde, 2019-05-09T12:31:22.361Z\n",
      "Huawi Peace, 2.pde, 2019-05-09T12:29:40.459Z\n",
      "Huawi Peace, 3.pde, 2019-05-09T12:27:06.119Z\n",
      "Cornelius Otchere, 1.pde, 2019-05-09T08:57:32.055Z\n",
      "tiwonge lwara, 1.pde, 2019-05-09T05:54:41.830Z\n",
      "Bright Eru, 1.pde, 2019-05-09T03:26:35.176Z\n",
      "Antony, 1.pde, 2019-05-08T22:41:00.668Z\n",
      "Akomeah Akomeah 2019, 1.pde, 2019-05-08T19:55:57.114Z\n",
      "Uyioghosasere Daniel Obasuyi, 1.pde, 2019-05-08T14:42:13.469Z\n",
      "Uyioghosasere Daniel Obasuyi, 2.pde, 2019-05-08T14:41:12.750Z\n",
      "Million Mulugeta, 1.pde, 2019-05-08T12:30:39.726Z\n",
      "Abdulmutalab Musa, 1.pde, 2019-05-08T12:09:48.294Z\n",
      "Alpha Ambari, 1.pde, 2019-05-08T11:58:03.732Z\n",
      "Jessica Tweneboah, 1.pde, 2019-05-08T11:48:24.908Z\n",
      "Brian Chesney, 1.pde, 2019-05-08T11:19:53.253Z\n",
      "Izabayo Dieudonne, 1.pde, 2019-05-08T08:07:39.012Z\n",
      "Hayford Ecliz, 1.pde, 2019-05-08T01:14:32.833Z\n",
      "Cornelius Otchere, 2.pde, 2019-05-07T21:37:24.568Z\n",
      "Cornelius Otchere, 3.pde, 2019-05-07T21:30:14.796Z\n",
      "Bebe Ngb, 3.pde, 2019-05-07T21:26:39.457Z\n",
      "Cornelius Otchere, 4.pde, 2019-05-07T21:23:25.576Z\n",
      "Bockarie Lahai, 2.pde, 2019-05-07T18:18:35.844Z\n",
      "Chila Kasonde, 1.pde, 2019-05-07T11:19:41.763Z\n",
      "odon ndayisenga, 1.pde, 2019-05-07T11:16:10.099Z\n",
      "odon ndayisenga, 2.pde, 2019-05-07T09:34:12.200Z\n",
      "odon ndayisenga, 3.pde, 2019-05-07T09:21:26.441Z\n",
      "Million Mulugeta, 2.pde, 2019-05-07T08:21:57.271Z\n",
      "Van troy Edem, 2.pde, 2019-05-07T08:11:30.850Z\n",
      "Chila Kasonde, 2.pde, 2019-05-07T05:55:38.408Z\n",
      "Chila Kasonde, 3.pde, 2019-05-07T05:55:25.391Z\n",
      "Million Mulugeta, 3.pde, 2019-05-07T00:44:22.781Z\n",
      "Bankole Samuel, 1.pde, 2019-05-06T23:44:44.718Z\n",
      "AFOLABI DANIEL, 1.pde, 2019-05-06T22:26:15.993Z\n",
      "AFOLABI DANIEL, 2.pde, 2019-05-06T22:04:13.395Z\n",
      "Awura Precious, 1.pde, 2019-05-06T20:41:04.507Z\n",
      "Awura Precious, 2.pde, 2019-05-06T20:40:42.693Z\n",
      "Awura Precious, 3.pde, 2019-05-06T20:26:25.413Z\n",
      "odon ndayisenga, 4.pde, 2019-05-06T19:26:27.091Z\n",
      "Done!\n"
     ]
    }
   ],
   "source": [
    "get_files('SuaCode Africa 1', 'Assignment 1')"
   ]
  },
  {
   "cell_type": "code",
   "execution_count": 5,
   "metadata": {},
   "outputs": [
    {
     "data": {
      "text/plain": [
       "'C:\\\\Users\\\\Raymond Tetteh\\\\Desktop\\\\autograd\\\\drive'"
      ]
     },
     "execution_count": 5,
     "metadata": {},
     "output_type": "execute_result"
    }
   ],
   "source": [
    "get_files('SuaCode Africa 2', 'Assignment 1')"
   ]
  },
  {
   "cell_type": "code",
   "execution_count": 7,
   "metadata": {},
   "outputs": [
    {
     "name": "stdout",
     "output_type": "stream",
     "text": [
      "Directory  SuaCode Africa 3/Assignment 1  Created\n",
      "Running...\n",
      "Done!\n"
     ]
    }
   ],
   "source": [
    "get_files('SuaCode Africa 3', 'Assignment 1')"
   ]
  },
  {
   "cell_type": "code",
   "execution_count": 13,
   "metadata": {},
   "outputs": [],
   "source": [
    "#myCmd = 'processing-java --sketch=\"' + os.getcwd() + '\\..\\\\pong_1\" --output=\"' + os.getcwd() + '\\..\\\\pong_1\\\\build\"' + ' --force --run'\n",
    "#newMyCmd = myCmd.replace(\"\\\\\", \"/\")\n",
    "\n",
    "#os.system(newMyCmd)"
   ]
  },
  {
   "cell_type": "code",
   "execution_count": 12,
   "metadata": {},
   "outputs": [
    {
     "data": {
      "text/plain": [
       "'C:\\\\Users\\\\Raymond Tetteh\\\\Desktop\\\\autograd\\\\drive'"
      ]
     },
     "execution_count": 12,
     "metadata": {},
     "output_type": "execute_result"
    }
   ],
   "source": [
    "os.getcwd()"
   ]
  }
 ],
 "metadata": {
  "kernelspec": {
   "display_name": "Python 3",
   "language": "python",
   "name": "python3"
  },
  "language_info": {
   "codemirror_mode": {
    "name": "ipython",
    "version": 3
   },
   "file_extension": ".py",
   "mimetype": "text/x-python",
   "name": "python",
   "nbconvert_exporter": "python",
   "pygments_lexer": "ipython3",
   "version": "3.7.3"
  }
 },
 "nbformat": 4,
 "nbformat_minor": 2
}
